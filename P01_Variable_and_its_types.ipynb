{
 "cells": [
  {
   "cell_type": "markdown",
   "id": "16c00119",
   "metadata": {},
   "source": [
    "# 01. Vypis, tlac"
   ]
  },
  {
   "cell_type": "code",
   "execution_count": null,
   "id": "099c7833",
   "metadata": {},
   "outputs": [],
   "source": [
    "# print(\"It's alive\");"
   ]
  },
  {
   "cell_type": "markdown",
   "id": "3717b01a",
   "metadata": {},
   "source": [
    "# 02. Premenne a datove typy\n"
   ]
  },
  {
   "cell_type": "code",
   "execution_count": 6,
   "id": "9905fb0b",
   "metadata": {},
   "outputs": [
    {
     "name": "stdout",
     "output_type": "stream",
     "text": [
      "Ahoj Adam\n",
      "Ahoj Adam\n",
      "pocetDniVianoce\n",
      "Do Vianoc je este 23 dni!\n"
     ]
    }
   ],
   "source": [
    "# Jednoriadkovy komentar (poznamky, odkazy)\n",
    "# menoKlient Retazec (str - string)\n",
    "menoKlient = \"Adam\";\n",
    "print(\"Ahoj\", menoKlient);\n",
    "print(\"Ahoj \" + menoKlient);\n",
    "\n",
    "#Cele cislo (int - integer)\n",
    "pocetDniVianoce = 23;\n",
    "print(\"pocetDniVianoce\");\n",
    "print(\"Do Vianoc je este\", pocetDniVianoce, \"dni!\");\n"
   ]
  },
  {
   "cell_type": "code",
   "execution_count": null,
   "id": "75ab7b3e",
   "metadata": {},
   "outputs": [],
   "source": []
  },
  {
   "cell_type": "code",
   "execution_count": null,
   "id": "fb113930",
   "metadata": {},
   "outputs": [],
   "source": []
  }
 ],
 "metadata": {
  "kernelspec": {
   "display_name": "Python 3 (ipykernel)",
   "language": "python",
   "name": "python3"
  },
  "language_info": {
   "codemirror_mode": {
    "name": "ipython",
    "version": 3
   },
   "file_extension": ".py",
   "mimetype": "text/x-python",
   "name": "python",
   "nbconvert_exporter": "python",
   "pygments_lexer": "ipython3",
   "version": "3.9.7"
  }
 },
 "nbformat": 4,
 "nbformat_minor": 5
}
